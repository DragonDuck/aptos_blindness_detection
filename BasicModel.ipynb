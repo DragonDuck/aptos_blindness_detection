{
 "cells": [
  {
   "cell_type": "markdown",
   "metadata": {},
   "source": [
    "This notebook creates a tensorflow `tf.data.Dataset` object from images on disk"
   ]
  },
  {
   "cell_type": "code",
   "execution_count": 1,
   "metadata": {},
   "outputs": [],
   "source": [
    "import os\n",
    "import tensorflow as tf\n",
    "tf.enable_eager_execution()\n",
    "import pandas as pd\n",
    "%matplotlib inline\n",
    "import matplotlib.pyplot as plt"
   ]
  },
  {
   "cell_type": "code",
   "execution_count": 2,
   "metadata": {},
   "outputs": [],
   "source": [
    "# Parameters\n",
    "img_dir=\"train_images/\"\n",
    "downsampled_image_size = (224, 224)\n",
    "label_file = \"train.csv\"\n",
    "batchsize = 64\n",
    "num_labels = 5"
   ]
  },
  {
   "cell_type": "code",
   "execution_count": 3,
   "metadata": {},
   "outputs": [],
   "source": [
    "def load_and_preprocess_image(img_url, label):\n",
    "    \"\"\"\n",
    "    Preprocessing function\n",
    "    \"\"\"\n",
    "    img = tf.read_file(img_url)\n",
    "    img = tf.image.decode_png(img)\n",
    "    img = tf.image.convert_image_dtype(img, tf.float32)\n",
    "    img = tf.image.resize_images(img, downsampled_image_size)\n",
    "    min_val = tf.reduce_min(img)\n",
    "    max_val = tf.reduce_max(img)\n",
    "    img = (img - min_val) / (max_val - min_val)\n",
    "    return img, label"
   ]
  },
  {
   "cell_type": "code",
   "execution_count": 4,
   "metadata": {},
   "outputs": [],
   "source": [
    "def make_dataset():\n",
    "    \"\"\"\n",
    "    Load labels and image IDs and create a tf.data.Dataset object\n",
    "    \"\"\"\n",
    "    df = pd.read_csv(\"train.csv\")\n",
    "    df.loc[:, \"url\"] = img_dir + df.loc[:, \"id_code\"] + \".png\"\n",
    "    dataset = tf.data.Dataset.from_tensor_slices((df[\"url\"], df[\"diagnosis\"]))\n",
    "    dataset = dataset.shuffle(buffer_size=len(df))\n",
    "    dataset = dataset.map(load_and_preprocess_image, num_parallel_calls=-1)\n",
    "    dataset = dataset.batch(batchsize)\n",
    "    dataset = dataset.prefetch(1)\n",
    "    return dataset"
   ]
  },
  {
   "cell_type": "code",
   "execution_count": 5,
   "metadata": {},
   "outputs": [],
   "source": [
    "dataset = make_dataset()"
   ]
  },
  {
   "cell_type": "code",
   "execution_count": 15,
   "metadata": {},
   "outputs": [],
   "source": [
    "def make_model():\n",
    "    mobile_net = tf.keras.applications.ResNet50(\n",
    "        input_shape=downsampled_image_size + (3,), \n",
    "        include_top=False)\n",
    "    mobile_net.trainable = False\n",
    "    model = tf.keras.Sequential([\n",
    "        mobile_net, \n",
    "        tf.keras.layers.GlobalAveragePooling2D(),\n",
    "        tf.keras.layers.Dense(num_labels)])\n",
    "    model.compile(optimizer=\"adam\", \n",
    "        loss=tf.keras.losses.sparse_categorical_crossentropy,\n",
    "        metrics=[\"accuracy\"])\n",
    "    \n",
    "    return model"
   ]
  },
  {
   "cell_type": "code",
   "execution_count": 16,
   "metadata": {},
   "outputs": [],
   "source": [
    "model = make_model()"
   ]
  },
  {
   "cell_type": "code",
   "execution_count": 17,
   "metadata": {},
   "outputs": [
    {
     "name": "stdout",
     "output_type": "stream",
     "text": [
      "Model: \"sequential_2\"\n",
      "_________________________________________________________________\n",
      "Layer (type)                 Output Shape              Param #   \n",
      "=================================================================\n",
      "resnet50 (Model)             (None, 7, 7, 2048)        23587712  \n",
      "_________________________________________________________________\n",
      "global_average_pooling2d_2 ( (None, 2048)              0         \n",
      "_________________________________________________________________\n",
      "dense_2 (Dense)              (None, 5)                 10245     \n",
      "=================================================================\n",
      "Total params: 23,597,957\n",
      "Trainable params: 10,245\n",
      "Non-trainable params: 23,587,712\n",
      "_________________________________________________________________\n"
     ]
    }
   ],
   "source": [
    "model.summary()"
   ]
  },
  {
   "cell_type": "code",
   "execution_count": null,
   "metadata": {},
   "outputs": [],
   "source": [
    "model.fit(dataset, epochs=1)"
   ]
  },
  {
   "cell_type": "code",
   "execution_count": null,
   "metadata": {},
   "outputs": [],
   "source": [
    "model.save(\"Model.h5\")"
   ]
  },
  {
   "cell_type": "code",
   "execution_count": null,
   "metadata": {},
   "outputs": [],
   "source": [
    "#df = pd.read_csv(\"test.csv\")\n",
    "#    df.loc[:, \"url\"] = img_dir + df.loc[:, \"id_code\"] + \".png\"\n",
    "#    dataset = tf.data.Dataset.from_tensor_slices((df[\"url\"], df[\"diagnosis\"]))"
   ]
  }
 ],
 "metadata": {
  "kernelspec": {
   "display_name": "Python 3",
   "language": "python",
   "name": "python3"
  },
  "language_info": {
   "codemirror_mode": {
    "name": "ipython",
    "version": 3
   },
   "file_extension": ".py",
   "mimetype": "text/x-python",
   "name": "python",
   "nbconvert_exporter": "python",
   "pygments_lexer": "ipython3",
   "version": "3.7.3"
  }
 },
 "nbformat": 4,
 "nbformat_minor": 2
}
